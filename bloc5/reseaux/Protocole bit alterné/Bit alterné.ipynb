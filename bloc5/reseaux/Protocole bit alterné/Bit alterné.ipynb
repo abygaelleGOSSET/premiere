{
 "cells": [
  {
   "cell_type": "markdown",
   "metadata": {},
   "source": [
    "# Protocole du bit alterné \n",
    "\n",
    "Le protocole **bit alterné** se situe sur dans la couche 2 du modèle OSI"
   ]
  },
  {
   "cell_type": "markdown",
   "metadata": {},
   "source": [
    "L'envoie d'un message se ferait comme ceci dans une situation idéale :\n",
    "\n",
    "## Situation idéale :\n",
    "\n",
    "![situation_ideale](./Images/situation_ideale.png)\n",
    "\n",
    "- Bob envoie un message M composé de sous messages : M0, M1, M2\n",
    "\n",
    "- Alice les recoie **tous** et dans le **bon ordre**"
   ]
  },
  {
   "cell_type": "markdown",
   "metadata": {},
   "source": [
    "## Situation réelle :\n",
    "\n",
    "Les paquets peuvent :\n",
    "\n",
    "- être perdu\n",
    "- Reçu dans le désordre \n",
    "\n"
   ]
  },
  {
   "cell_type": "markdown",
   "metadata": {},
   "source": [
    "## Principe du protocole :\n",
    "\n",
    "\n",
    "Un bit de contrôle est créé pour structurer les envoies et réception des messages.\n",
    "\n",
    "\n",
    "![bit_alt](./Images/bit_alt.png)\n",
    "\n",
    "Comment cela marche ?\n",
    "\n",
    "- Bob envoie un message avec un bit de contrôle à 0\n",
    "- Alice reçoit le message et renvoie un accusé de réception à 0\n",
    "- Bob ayant reçu un accusé de réception à 0, renvoie un message avec un bit de contrôle à 1 \n",
    "- Alice reçoit le message et renvoie un accusé de réception à 1\n",
    "- Bob ayant reçu un accusé de réception à 1, renvoie un message avec un bit de contrôle à 0\n",
    "\n",
    "Et ce jusqu'à la fin du message.\n",
    "\n",
    "### Limites du bit alterné :\n",
    "\n",
    "Dans certaines situations le protocole ne permet pas de transmettre le message en bonne et due forme.\n",
    "\n",
    "![bit_alt](./Images/erreur_bit.png)\n",
    "\n",
    "Ici le premier accusé de récepetion a été reçu bien plus tard et cela a empeché le message M2 d'être bien reçu. \n",
    "\n",
    "En effet M2 a été **perdu**. Mais l'accusé de réception en 0 de la première tentative d'envoie de M0 a été reçu en retard, Bob considère donc que son message a été parfaitement envoyé "
   ]
  },
  {
   "cell_type": "code",
   "execution_count": null,
   "metadata": {},
   "outputs": [],
   "source": []
  }
 ],
 "metadata": {
  "kernelspec": {
   "display_name": "Python 3",
   "language": "python",
   "name": "python3"
  },
  "language_info": {
   "codemirror_mode": {
    "name": "ipython",
    "version": 3
   },
   "file_extension": ".py",
   "mimetype": "text/x-python",
   "name": "python",
   "nbconvert_exporter": "python",
   "pygments_lexer": "ipython3",
   "version": "3.7.2"
  }
 },
 "nbformat": 4,
 "nbformat_minor": 4
}
