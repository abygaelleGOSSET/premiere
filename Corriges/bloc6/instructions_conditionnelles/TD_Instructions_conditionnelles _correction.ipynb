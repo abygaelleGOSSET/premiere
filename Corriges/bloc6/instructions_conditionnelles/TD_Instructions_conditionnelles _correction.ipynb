{
 "cells": [
  {
   "cell_type": "markdown",
   "metadata": {},
   "source": [
    "# Exercice 1 : niveau facile\n",
    "\n",
    "> On considère les _propositions à tester_ suivantes :  \n",
    "* Il a eu la moyenne au dernier devoir\n",
    "* Cette fille s'appelle Alice\n",
    "* Cet individu est mineur\n",
    "* Il a obtenu au moins la mention \"assez bien\" au baccalauréat\n",
    "\n",
    "1. Traduire les _propositions à tester_ ci-dessus en **expressions booléennes** python. Pour cela utiliser les **opérateurs de comparaison** et choisir des **noms de variables adaptées**\n",
    "\n",
    "2. Affecter aux variables utilisées ci-dessus des valeurs choisies au hasard puis écrire dans le **shell** de Thonny les expressions booléennes ci-dessus. Observez le résultat."
   ]
  },
  {
   "cell_type": "code",
   "execution_count": null,
   "metadata": {},
   "outputs": [],
   "source": [
    "moyenne >= 10\n",
    "nomFille == 'Alice'\n",
    "ageIndividu < 18\n",
    "moyenneBac >=1 2"
   ]
  },
  {
   "cell_type": "markdown",
   "metadata": {},
   "source": [
    "# Exercice 2 : niveau facile\n",
    "\n",
    "1. Ecrire une fonction `bac` :\n",
    "\n",
    "\n",
    "* qui prend en paramètres :\n",
    "    * un prenom de candidat\n",
    "    * un nom de candidat\n",
    "    * la moyenne obtenue au bac par ce candidat\n",
    " \n",
    " \n",
    "* et qui **affiche** une phrase du type `prenom nom a obtenu son baccalauréat, Félicitations !` uniquement si le candidat a été reçu   \n",
    "\n",
    "*(Voir les deux exemples d'appels de cette fonction)*"
   ]
  },
  {
   "cell_type": "code",
   "execution_count": 2,
   "metadata": {},
   "outputs": [
    {
     "name": "stdout",
     "output_type": "stream",
     "text": [
      "Alice Dupont a obtenu son baccalauréat, Félicitations !\n"
     ]
    }
   ],
   "source": [
    "bac(\"Alice\", \"Dupont\", 12)"
   ]
  },
  {
   "cell_type": "code",
   "execution_count": 3,
   "metadata": {},
   "outputs": [],
   "source": [
    "bac(\"Bob\", \"Martin\", 9)"
   ]
  },
  {
   "cell_type": "code",
   "execution_count": 1,
   "metadata": {},
   "outputs": [],
   "source": [
    "def bac(prenom, nom, moyenne):\n",
    "    if moyenne >= 10:\n",
    "        print(prenom, nom, \"a obtenu son baccalauréat, Félicitations !\")"
   ]
  },
  {
   "cell_type": "markdown",
   "metadata": {},
   "source": [
    "2. Ecrire une fonction `bac2` :\n",
    "\n",
    "\n",
    "* qui prend en paramètres :\n",
    "    * un prenom de candidat\n",
    "    * un nom de candidat\n",
    "    * la moyenne obtenue au bac par ce candidat\n",
    " \n",
    " \n",
    "* et qui **affiche** une phrase du type `prenom nom a obtenu son baccalauréat, Félicitations !` si le candidat a été reçu  et une phrase du type `prenom nom n'a pas obtenu son baccalauréat` sinon \n",
    "\n",
    "*(Voir les deux exemples d'appels de cette fonction)*"
   ]
  },
  {
   "cell_type": "code",
   "execution_count": 5,
   "metadata": {},
   "outputs": [
    {
     "name": "stdout",
     "output_type": "stream",
     "text": [
      "Alice Dupont a obtenu son baccalauréat, Félicitations !\n"
     ]
    }
   ],
   "source": [
    "bac2(\"Alice\", \"Dupont\", 12)"
   ]
  },
  {
   "cell_type": "code",
   "execution_count": 6,
   "metadata": {},
   "outputs": [
    {
     "name": "stdout",
     "output_type": "stream",
     "text": [
      "Bob Martin n'a pas obtenu son baccalauréat\n"
     ]
    }
   ],
   "source": [
    "bac2(\"Bob\", \"Martin\", 9)"
   ]
  },
  {
   "cell_type": "code",
   "execution_count": 4,
   "metadata": {},
   "outputs": [],
   "source": [
    "def bac2(prenom, nom, moyenne):\n",
    "    if moyenne >= 10:\n",
    "        print(prenom, nom, \"a obtenu son baccalauréat, Félicitations !\")\n",
    "    else :\n",
    "        print(prenom, nom, \"n'a pas obtenu son baccalauréat\")"
   ]
  },
  {
   "cell_type": "markdown",
   "metadata": {},
   "source": [
    "# Exercice 3 : niveau facile\n",
    "\n",
    "1. Ecrire une fonction `maximum` qui prend deux nombres en paramètre et **renvoie** le plus grand de ces 2 nombres  \n",
    "*(Indication : le maximum de $a$ et $b$ est $a$ si $a \\geq b$ et $b$ sinon...)*"
   ]
  },
  {
   "cell_type": "code",
   "execution_count": 10,
   "metadata": {},
   "outputs": [],
   "source": [
    "def maximum(a,b):\n",
    "    if a >= b:\n",
    "        return a\n",
    "    else:\n",
    "        return b"
   ]
  },
  {
   "cell_type": "markdown",
   "metadata": {},
   "source": [
    "2. Ecrire une fonction `minimum` qui prend deux nombres en paramètre et **renvoie** le plus petit de ces 2 nombres  \n",
    "*(Indication : le maximum de $a$ et $b$ est $a$ si $a \\leq b$ et $b$ sinon...)*"
   ]
  },
  {
   "cell_type": "code",
   "execution_count": 12,
   "metadata": {},
   "outputs": [],
   "source": [
    "def minimum(a,b):\n",
    "    if a <= b:\n",
    "        return a\n",
    "    else:\n",
    "        return b"
   ]
  },
  {
   "cell_type": "markdown",
   "metadata": {},
   "source": [
    "3. Ecrire une fonction `valeur_absolue` qui prend un nombre en paramètre et **renvoie** la valeur absolue de ce nombre.  \n",
    "*(Indication : la valeur absolue de $x$ est $x$ si $x \\geq 0$ et $-x$ sinon...)*"
   ]
  },
  {
   "cell_type": "code",
   "execution_count": 9,
   "metadata": {},
   "outputs": [],
   "source": [
    "def valeur_absolue(x):\n",
    "    if x >= 0:\n",
    "        return x\n",
    "    else:\n",
    "        return -1 * x   "
   ]
  },
  {
   "cell_type": "markdown",
   "metadata": {},
   "source": [
    "# Exercice 4 : niveau intermédiaire\n",
    "\n",
    "> Le bowling comporte 10 quilles. Un joueur dispose de 2 boules pour tenter de renverser les 10 quilles. 3 cas sont possibles :\n",
    "* Il les renverse toutes dès la première boule : il fait un \"Strike\" et on affiche à l'écran \"X\".\n",
    "* Il les renverse toutes au bout de ses 2 essais, il fait un \"Spare\" et on affiche \"/\" à l'écran.\n",
    "* Il ne les renverse pas toutes à la fin de son deuxième jet : l'écran affiche le total de quilles renversées\n",
    "\n",
    "![bowling](img/bowling.jpg)\n",
    "\n",
    "Compléter la fonction `bowling` puis tester-la"
   ]
  },
  {
   "cell_type": "code",
   "execution_count": 15,
   "metadata": {},
   "outputs": [],
   "source": [
    "def bowling(boule1, boule2):\n",
    "    \"\"\"\n",
    "    Description de la fonction : Affiche à l'écran les performances d'un joueur de bowling\n",
    "    boule1 (int) : nombre de quilles renversées avec la première boule\n",
    "    boule2 (int) : nombre de quilles renversées avec la deuxième boule\n",
    "    return (None)\n",
    "    préconditions sur les entrées : a + b <= 10 \n",
    "    \"\"\"\n",
    "    if boule1 == 10:\n",
    "        print(\"X\")\n",
    "    elif boule1 + boule2 == 10:\n",
    "        print(\"/\")\n",
    "    else :\n",
    "        print(boule1 + boule2)"
   ]
  },
  {
   "cell_type": "code",
   "execution_count": 16,
   "metadata": {},
   "outputs": [
    {
     "name": "stdout",
     "output_type": "stream",
     "text": [
      "X\n"
     ]
    }
   ],
   "source": [
    "bowling(10,0)"
   ]
  },
  {
   "cell_type": "code",
   "execution_count": 17,
   "metadata": {},
   "outputs": [
    {
     "name": "stdout",
     "output_type": "stream",
     "text": [
      "/\n"
     ]
    }
   ],
   "source": [
    "bowling(7,3)"
   ]
  },
  {
   "cell_type": "code",
   "execution_count": 18,
   "metadata": {},
   "outputs": [
    {
     "name": "stdout",
     "output_type": "stream",
     "text": [
      "7\n"
     ]
    }
   ],
   "source": [
    "bowling(3,4)"
   ]
  },
  {
   "cell_type": "markdown",
   "metadata": {},
   "source": [
    "# Exercice 5  : niveau intermédiaire\n",
    "\n",
    "On considère trois nombres a, b et c. On considère que ces trois nombres sont classés par ordre croissant si l'inégalité $a \\le b \\le c$ est vérifiée.\n",
    "\n",
    "1. Compléter la fonction `croissant` suivante afin qu'elle renvoie `True` si a, b et c sont classés par ordre croissant et `False` sinon.\n",
    "\n",
    "2. Vérifier votre fonction en la testant sur les appels suivants :"
   ]
  },
  {
   "cell_type": "code",
   "execution_count": null,
   "metadata": {},
   "outputs": [],
   "source": [
    "def croissant(a,b,c):\n",
    "    if a <= b :\n",
    "        if b <= c :\n",
    "            resultat = True\n",
    "        else :\n",
    "            resultat = False\n",
    "    else :\n",
    "        resultat = False\n",
    "    return resultat"
   ]
  },
  {
   "cell_type": "markdown",
   "metadata": {},
   "source": [
    "# Exercice 6 : niveau intermédiaire\n",
    "\n",
    "1. Ecrire une **expression booléenne** permettant de tester si une année est divisible par 4.\n",
    "*(Indication : Une année est divisible par 4 si le reste de la division euvlidienne de l'année par 4 est nul)*"
   ]
  },
  {
   "cell_type": "code",
   "execution_count": null,
   "metadata": {},
   "outputs": [],
   "source": [
    "annee % 4 == 0"
   ]
  },
  {
   "cell_type": "markdown",
   "metadata": {},
   "source": [
    "> Le texte ci-dessous précise les conditions à pour qu'une année soit bissextile :\n",
    "* Si une année n'est pas multiple de 4, elle n'est pas bissextile. \n",
    "* Si elle est multiple de 4, on regarde si elle est multiple de 100.\n",
    "\t* Si c'est le cas, on regarde si elle est multiple de 400.\n",
    "\t\t* Si c'est le cas, l'année est bissextile.\n",
    "\t\t* Sinon, elle n'est pas bissextile.\n",
    "\t* Sinon, elle est bissextile.\n",
    "\n",
    "2. Ecrire une fonction qui prend une année en paramètre et qui renvoie un booléen selon que l'année est bissextile ou pas.  \n",
    "*(Indication : Il faudra utiliser des structures conditionnelles imbriquées comme dans l'exercice précédent...)*\n",
    "\n",
    "\n",
    "3. Tester votre programme pour quelques années différentes. Vous pouvez utiliser [ce site](http://cosmos2000.chez.com/Vendredi13/AnneeBissextile.html)"
   ]
  },
  {
   "cell_type": "code",
   "execution_count": 21,
   "metadata": {},
   "outputs": [],
   "source": [
    "# Cette version est améliorable (en utilisant des expressions conditionnelles...)\n",
    "def est_bissextile(annee):\n",
    "    if annee % 4 != 0:\n",
    "        return False\n",
    "            \n",
    "    else:\n",
    "        if annee % 100 == 0:\n",
    "            if annee % 400 == 0:\n",
    "                return True\n",
    "            else:\n",
    "                return False\n",
    "        else:\n",
    "            return True"
   ]
  },
  {
   "cell_type": "markdown",
   "metadata": {},
   "source": [
    "# Exercice 7 : niveau difficile\n",
    "\n",
    "Compléter le fonction `triangle` puis tester-la.   \n",
    "Cette fonction doit afficher si un triangle est équilatéral, isocèle ou scalène (ni équilatéral, ni isocèle).\n",
    "*(Indication : Il faudra utiliser des structures conditionnelles imbriquées...)*"
   ]
  },
  {
   "cell_type": "code",
   "execution_count": 27,
   "metadata": {},
   "outputs": [
    {
     "name": "stdout",
     "output_type": "stream",
     "text": [
      "triangle isocèle\n"
     ]
    }
   ],
   "source": [
    "def triangle(c1,c2,c3):\n",
    "    \"\"\"\n",
    "    description de la fonction : affiche une des caractéristiques du triangle suivante : équilatéral, isocèle ou scalène\n",
    "    c1, c2, c3 (int ou float) : trois côtés du triangle\n",
    "    précondition sur les entrées : on considère que les valeurs de c1, c2 et c3 doivent permettre de construire un triangle\n",
    "    return (None)\n",
    "    \"\"\"\n",
    "    if c1 == c2 :\n",
    "        if c1 == c3 :\n",
    "            print(\"triangle équilatéral\")\n",
    "        else : \n",
    "            print(\"triangle isocèle\")\n",
    "    elif c1 == c3 :\n",
    "        print(\"triangle isocèle\")\n",
    "    elif c2 == c3 :\n",
    "        print(\"triangle isocèle\")\n",
    "    else : \n",
    "        print(\"triangle scalène\")\n",
    "    \n",
    "triangle(3,2,2)  "
   ]
  }
 ],
 "metadata": {
  "kernelspec": {
   "display_name": "Python 3",
   "language": "python",
   "name": "python3"
  },
  "language_info": {
   "codemirror_mode": {
    "name": "ipython",
    "version": 3
   },
   "file_extension": ".py",
   "mimetype": "text/x-python",
   "name": "python",
   "nbconvert_exporter": "python",
   "pygments_lexer": "ipython3",
   "version": "3.7.2"
  }
 },
 "nbformat": 4,
 "nbformat_minor": 2
}
