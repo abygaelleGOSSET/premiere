{
 "cells": [
  {
   "cell_type": "markdown",
   "metadata": {},
   "source": [
    "# Cours : Les boucles While"
   ]
  },
  {
   "cell_type": "markdown",
   "metadata": {},
   "source": [
    "Les boucles **while** sont des boucles non bornées : ce qui ne permet pas de savoir à l'avance le nombre d'itération de boucle. \n",
    "\n",
    "A la différence de la boucle for qui permet de savoir combien d'itérations nous allons faire. (En fonction de la taille de la séquence)\n",
    "\n",
    "Principe :  **tant que** la condition est vraie **alors** on entre dans la boucle.\n",
    "\n",
    "La condition régie la boucle, et si celle-ci s'avère être toujours vraie alors il peut y avoir des **boucles infinies**. Le code ne se terminerait jamais. (voir preuve de terminaison)\n",
    "\n",
    "**Condition** : C'est une phrase à la quelle nous pouvons répondre Vrai ou Faux, en programmation il s'agit d'un **booléen**  "
   ]
  },
  {
   "cell_type": "markdown",
   "metadata": {},
   "source": [
    "## Syntaxe : "
   ]
  },
  {
   "cell_type": "code",
   "execution_count": null,
   "metadata": {},
   "outputs": [],
   "source": [
    "#Initialisation\n",
    "while condition :\n",
    "    #Bloc de la boucle\n",
    "    #--------------\n",
    "#Instruction hors de la boucle"
   ]
  },
  {
   "cell_type": "markdown",
   "metadata": {},
   "source": [
    "Avant de créer une condition je dois initialiser mes valeurs. Condition peut vérifier :\n",
    "\n",
    "- Une égalité\n",
    "- Une différence\n",
    "- Une infériotité \n",
    "- etc\n",
    "\n",
    "Par exemple pour comparer **\"a > b\"** Je dois forcément initialiser a et b.\n",
    "\n",
    "Nous pouvons par exemple écrire :"
   ]
  },
  {
   "cell_type": "code",
   "execution_count": 5,
   "metadata": {},
   "outputs": [],
   "source": [
    "a = 15\n",
    "b = 0\n",
    "#while condition :\n",
    "while a > 10 :\n",
    "    b = b + 1\n",
    "    print('a =',a,' , b =',b)\n",
    "print('Nous sommes sortis de la boucle')"
   ]
  },
  {
   "cell_type": "markdown",
   "metadata": {},
   "source": [
    "Ici à aucun moment nous n'agissons sur la condition \"a > 10\" de ce fait la boucle sera **infinie**.\n",
    "\n",
    "Il faut forcément agir sur la **condition** afin de stopper l'éxecution de la boucle.\n",
    "\n",
    "Par exemple :"
   ]
  },
  {
   "cell_type": "code",
   "execution_count": 12,
   "metadata": {},
   "outputs": [
    {
     "name": "stdout",
     "output_type": "stream",
     "text": [
      "a = 15  , b = 0\n",
      "a = 14  , b = 1\n",
      "a = 13  , b = 2\n",
      "a = 12  , b = 3\n",
      "a = 11  , b = 4\n",
      "Nous sommes sortis de la boucle\n"
     ]
    }
   ],
   "source": [
    "a = 15\n",
    "b = 0\n",
    "while a > 10 :\n",
    "    b = b + 1\n",
    "    a = a - 1\n",
    "    print('a =',a,' , b =',b)\n",
    "print('Nous sommes sortis de la boucle')"
   ]
  },
  {
   "cell_type": "markdown",
   "metadata": {},
   "source": [
    "Au bout de x tours de boucle la condition n'est plus valide. En effet on décrémente **a** à chaque tour de boucle.\n",
    "\n",
    "Quand **a** vaut 10, alors **a** n'est plus supérieur à 10 (mais égale) et la condition devient **Fausse**\n",
    "\n",
    "**Pour bien écrire une boucle while il faut faire en sorte qu'à un certain moment la condition soit fausse pour que le programme  ne boucle plus**"
   ]
  },
  {
   "cell_type": "markdown",
   "metadata": {},
   "source": [
    "## Parcours d'une séquence avec While :\n"
   ]
  },
  {
   "cell_type": "code",
   "execution_count": 13,
   "metadata": {},
   "outputs": [
    {
     "data": {
      "text/plain": [
       "'p'"
      ]
     },
     "execution_count": 13,
     "metadata": {},
     "output_type": "execute_result"
    }
   ],
   "source": [
    "#Rappel : accès à un caractère \n",
    "ma_chaine=\"python\"\n",
    "ma_chaine[0]"
   ]
  },
  {
   "cell_type": "markdown",
   "metadata": {},
   "source": [
    "Il est tout aussi possible de parcourir une chaine de caractère avec les boucles **while**. Il suffit de \"prévoir\" le nombre de tour de boucle à faire.\n",
    "\n",
    "Pour \"prévoir\" le nombre de tour de boucle pour parcourir une séquence il faut connaitre la taille de la séquence. \n",
    "\n",
    "Pour parcourir la chaine \"python\" il faudra faire 6 tours de boucles (len('python') == 6).\n",
    "\n",
    "Nous utiliserons donc un **compteur**."
   ]
  },
  {
   "cell_type": "code",
   "execution_count": 15,
   "metadata": {
    "scrolled": true
   },
   "outputs": [
    {
     "name": "stdout",
     "output_type": "stream",
     "text": [
      "p\n",
      "y\n",
      "t\n",
      "h\n",
      "o\n",
      "n\n"
     ]
    }
   ],
   "source": [
    "compteur = 0\n",
    "chaine = \"python\"\n",
    "while compteur < len(chaine) :\n",
    "    print(chaine[compteur])\n",
    "    compteur += 1"
   ]
  },
  {
   "cell_type": "markdown",
   "metadata": {},
   "source": [
    "Le compteur permet de **stopper** les itérations de boucles à un **moment précis**.\n",
    "\n",
    "La même chose avec la boucle **for** serait :"
   ]
  },
  {
   "cell_type": "code",
   "execution_count": null,
   "metadata": {},
   "outputs": [],
   "source": [
    "chaine = \"python\"\n",
    "for lettre in chaine :\n",
    "    print(lettre)"
   ]
  },
  {
   "cell_type": "markdown",
   "metadata": {},
   "source": [
    "La boucle **for** permet de parcourir la séquence \"python\" **intelligemment** lorsqu'on arrive à la fin de la chaîne alors les itérations s'arrêtent."
   ]
  },
  {
   "cell_type": "markdown",
   "metadata": {},
   "source": [
    "## Remarque : \n",
    "\n",
    "Lorsqu'une condition contient un ou plusieurs opérateur booléens c'est le résultats de l'éxpression à prendre en compte :"
   ]
  },
  {
   "cell_type": "code",
   "execution_count": 18,
   "metadata": {},
   "outputs": [
    {
     "name": "stdout",
     "output_type": "stream",
     "text": [
      "1\n",
      "2\n",
      "3\n"
     ]
    }
   ],
   "source": [
    "k = 0 \n",
    "i = 'valide'\n",
    "while k < 3 and i == 'valide' :\n",
    "    k = k + 1\n",
    "    print(k)"
   ]
  },
  {
   "cell_type": "markdown",
   "metadata": {},
   "source": [
    "Il faut bien faire attention, c'est le **résultat** de l'expression qui est prise en compte, dans les 3 premières éxécution de boucle :\n",
    "    \n",
    "    Tour 1 : k < 3 and i =='valide'  => True and True => True (k vaut 0 et i vaut 'valide')\n",
    "    \n",
    "    Tour 2 : k < 3 and i =='valide'  => True and True => True (k vaut 1 et i vaut 'valide')\n",
    "    \n",
    "    Tour 3 : k < 3 and i =='valide'  => True and True => True (k vaut 2 et i vaut 'valide')\n",
    "    \n",
    "    Tour 4 : k < 3 and i =='valide'  => False and True => False (k vaut 3 et i vaut 'valide')"
   ]
  },
  {
   "cell_type": "code",
   "execution_count": null,
   "metadata": {},
   "outputs": [],
   "source": []
  }
 ],
 "metadata": {
  "kernelspec": {
   "display_name": "Python 3",
   "language": "python",
   "name": "python3"
  },
  "language_info": {
   "codemirror_mode": {
    "name": "ipython",
    "version": 3
   },
   "file_extension": ".py",
   "mimetype": "text/x-python",
   "name": "python",
   "nbconvert_exporter": "python",
   "pygments_lexer": "ipython3",
   "version": "3.8.5"
  }
 },
 "nbformat": 4,
 "nbformat_minor": 4
}
